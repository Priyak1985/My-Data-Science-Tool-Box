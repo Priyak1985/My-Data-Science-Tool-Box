{
 "cells": [
  {
   "cell_type": "code",
   "execution_count": null,
   "metadata": {},
   "outputs": [],
   "source": [
    "import MyPipelineComponents as mypipecomp\n",
    "import numpy as np\n",
    "import pandas as pd\n",
    "from sklearn.model_selection import GridSearchCV\n",
    "from sklearn.feature_selection import SelectKBest, VarianceThreshold\n",
    "from sklearn.pipeline import Pipeline, FeatureUnion\n",
    "import lightgbm as lgb\n",
    "from lightgbm import LGBMRegressor\n",
    "import warnings\n",
    "warnings.filterwarnings(\"ignore\")"
   ]
  },
  {
   "cell_type": "code",
   "execution_count": null,
   "metadata": {},
   "outputs": [],
   "source": [
    "ignore_imputation=[]\n",
    "ScalingMode='standard'\n",
    "myfinalModel=LGBMRegressor()"
   ]
  },
  {
   "cell_type": "code",
   "execution_count": null,
   "metadata": {},
   "outputs": [],
   "source": [
    "tpl_myOutlierTreatment=('preprocess',\n",
    "                        mypipecomp.CustomOutlierRemoval()\n",
    "                       )\n",
    "tpl_myMissingDataTreatment=('Imputation',\n",
    "                            mypipecomp.CustomOutlierRemoval(ignore=ignore_imputation)\n",
    "                           )\n",
    "\n",
    "tpl_myScaleDataTreatment=('Scale',\n",
    "                          mypipecomp. CustomScale(mode=ScalingMode)\n",
    "                         )\n"
   ]
  },
  {
   "cell_type": "code",
   "execution_count": null,
   "metadata": {},
   "outputs": [],
   "source": [
    "mysteps= [\n",
    "          tpl_myOutlierTreatment,\n",
    "          tpl_myMissingDataTreatment,\n",
    "          tpl_myScaleDataTreatment,\n",
    "         ]"
   ]
  },
  {
   "cell_type": "code",
   "execution_count": null,
   "metadata": {},
   "outputs": [],
   "source": [
    "# Balance the data set as applicable"
   ]
  },
  {
   "cell_type": "code",
   "execution_count": 2,
   "metadata": {},
   "outputs": [],
   "source": [
    "# Dimensionality treatment as applicable"
   ]
  },
  {
   "cell_type": "code",
   "execution_count": null,
   "metadata": {},
   "outputs": [],
   "source": [
    "# mysteps.extend([])\n"
   ]
  },
  {
   "cell_type": "code",
   "execution_count": null,
   "metadata": {},
   "outputs": [],
   "source": [
    "tpl_mySelectFeatures=('TopKFeatures',SelectKBest(k=5))\n",
    "tpl_mymodel=('Estimator',myfinalModel)\n",
    "\n",
    "mysteps.extend([tpl_mySelectFeatures,tpl_mymodel])\n",
    "\n",
    "mypipeline=Pipeline(\n",
    "                     steps=mysteps,\n",
    "                     \n",
    "                    )\n",
    "\n",
    "parameters = {}\n",
    "parameters['column_purge__k'] = [5,7,10]\n",
    "\n",
    "grid = GridSearchCV(pipeline, parameters, scoring = 'mean_absolute_error', n_jobs= 2)\n"
   ]
  },
  {
   "cell_type": "code",
   "execution_count": null,
   "metadata": {},
   "outputs": [],
   "source": []
  },
  {
   "cell_type": "code",
   "execution_count": null,
   "metadata": {},
   "outputs": [],
   "source": [
    "grid.fit(x_train, y_train)   \n",
    "\n",
    "print('Best score and parameter combination = ')\n",
    "\n",
    "print(grid.best_score_)    \n",
    "print(grid.best_params_)    \n",
    "\n",
    "y_pred = grid.predict(x_valid)\n",
    "print('MAE on validation set: %s' % (round(MAE(y_valid, y_pred), 5)))"
   ]
  },
  {
   "cell_type": "code",
   "execution_count": null,
   "metadata": {},
   "outputs": [],
   "source": [
    "from sklearn.externals import joblib\n",
    "joblib.dump(grid.best_estimator_, 'mymodel.pkl')"
   ]
  }
 ],
 "metadata": {
  "kernelspec": {
   "display_name": "Python 3",
   "language": "python",
   "name": "python3"
  },
  "language_info": {
   "codemirror_mode": {
    "name": "ipython",
    "version": 3
   },
   "file_extension": ".py",
   "mimetype": "text/x-python",
   "name": "python",
   "nbconvert_exporter": "python",
   "pygments_lexer": "ipython3",
   "version": "3.8.3"
  }
 },
 "nbformat": 4,
 "nbformat_minor": 4
}
